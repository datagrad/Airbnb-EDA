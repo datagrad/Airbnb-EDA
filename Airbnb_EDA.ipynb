{
  "nbformat": 4,
  "nbformat_minor": 0,
  "metadata": {
    "colab": {
      "name": "Airbnb-EDA.ipynb",
      "provenance": [],
      "authorship_tag": "ABX9TyO65vRvx3KiPyEgVmxBv3ky",
      "include_colab_link": true
    },
    "kernelspec": {
      "name": "python3",
      "display_name": "Python 3"
    },
    "language_info": {
      "name": "python"
    }
  },
  "cells": [
    {
      "cell_type": "markdown",
      "metadata": {
        "id": "view-in-github",
        "colab_type": "text"
      },
      "source": [
        "<a href=\"https://colab.research.google.com/github/datagrad/Airbnb-EDA/blob/main/Airbnb_EDA.ipynb\" target=\"_parent\"><img src=\"https://colab.research.google.com/assets/colab-badge.svg\" alt=\"Open In Colab\"/></a>"
      ]
    },
    {
      "cell_type": "code",
      "source": [
        "import numpy as np\n",
        "import pandas as pd\n",
        "import matplotlib.pyplot as plt\n",
        "import seaborn as sns\n"
      ],
      "metadata": {
        "id": "067kT46lp1Vo"
      },
      "execution_count": 1,
      "outputs": []
    },
    {
      "cell_type": "code",
      "execution_count": null,
      "metadata": {
        "id": "EuaLJr77pfdi"
      },
      "outputs": [],
      "source": [
        "# Read the Data from csv\n",
        "\n",
        "data = pd.read_csv('https://raw.githubusercontent.com/datagrad/Airbnb-EDA/main/AB_NYC_2019.csv')\n",
        "\n",
        "print('Number of features: %s' %data.shape[1])\n",
        "print('Number of examples: %s' %data.shape[0])\n"
      ]
    },
    {
      "cell_type": "code",
      "source": [
        "# Display Head and Tail Data\n",
        "\n",
        "data.head().append(data.tail())\n"
      ],
      "metadata": {
        "id": "ijRKlkQpqFkp"
      },
      "execution_count": null,
      "outputs": []
    },
    {
      "cell_type": "code",
      "source": [
        "# Checking Null and Data Type using info()\n",
        "\n",
        "data.info()\n"
      ],
      "metadata": {
        "id": "eVQHJw1sqKFR"
      },
      "execution_count": null,
      "outputs": []
    },
    {
      "cell_type": "markdown",
      "source": [
        "# Describe for Numerical Distribution\n",
        "\n"
      ],
      "metadata": {
        "id": "KhGzEISdqL7m"
      }
    },
    {
      "cell_type": "code",
      "source": [
        "data.describe()\n"
      ],
      "metadata": {
        "id": "txOZVlMB5wJ1"
      },
      "execution_count": null,
      "outputs": []
    },
    {
      "cell_type": "code",
      "source": [
        "# Analysis-Top_3_hosts\n",
        "\n",
        "top_3_hosts = (pd.DataFrame(data.host_id.value_counts())).head(3)\n",
        "top_3_hosts.columns=['Listings']\n",
        "top_3_hosts['host_id'] = top_3_hosts.index\n",
        "top_3_hosts.reset_index(drop=True, inplace=True)\n",
        "top_3_hosts"
      ],
      "metadata": {
        "id": "C3FCaz72qPkW"
      },
      "execution_count": null,
      "outputs": []
    },
    {
      "cell_type": "code",
      "source": [
        "# Analysis-Top_3_neighbourhoood_groups\n",
        "\n",
        "top_3_neigh = pd.DataFrame(data['neighbourhood_group'].value_counts().head(3))\n",
        "top_3_neigh.columns=['Listings']\n",
        "top_3_neigh['Neighbourhood Group'] = top_3_neigh.index\n",
        "top_3_neigh.reset_index(drop=True, inplace=True)\n",
        "top_3_neigh"
      ],
      "metadata": {
        "id": "ZDLDOP1iqTYE"
      },
      "execution_count": null,
      "outputs": []
    },
    {
      "cell_type": "code",
      "source": [
        "# WordCloud\n",
        "\n",
        "from wordcloud import WordCloud, ImageColorGenerator\n",
        "wordcloud = WordCloud(\n",
        "                          background_color='white'\n",
        "                         ).generate(\" \".join(data.neighbourhood))\n",
        "plt.figure(figsize=(15,10))\n",
        "plt.imshow(wordcloud)\n",
        "plt.axis('off')\n",
        "plt.savefig('neighbourhood.png')\n",
        "plt.show()"
      ],
      "metadata": {
        "id": "0EE5hzztqV0o"
      },
      "execution_count": null,
      "outputs": []
    },
    {
      "cell_type": "code",
      "source": [
        "# Drop Columns\n",
        "\n",
        "data.drop(['id','host_id','host_name','last_review'],axis=1,inplace=True)\n"
      ],
      "metadata": {
        "id": "QQQWjVQQqZDP"
      },
      "execution_count": 10,
      "outputs": []
    },
    {
      "cell_type": "code",
      "source": [
        "# NULL Count in each column\n",
        "\n",
        "data.isnull().sum()\n"
      ],
      "metadata": {
        "id": "PhS2hMhCqa3c"
      },
      "execution_count": null,
      "outputs": []
    },
    {
      "cell_type": "code",
      "source": [
        "# Data Distribution Check\n",
        "\n",
        "data_check_distrib=data.drop(data[pd.isnull(data.reviews_per_month)].index)\n",
        "\n",
        "{\"Mean\":np.nanmean(data.reviews_per_month),\"Median\":np.nanmedian(data.reviews_per_month),\n",
        " \"Standard Dev\":np.nanstd(data.reviews_per_month)}\n"
      ],
      "metadata": {
        "id": "ZBDFrghjqca1"
      },
      "execution_count": null,
      "outputs": []
    },
    {
      "cell_type": "code",
      "source": [
        "# Imputation with Median\n",
        "\n",
        "def impute_median(series):\n",
        "    return series.fillna(series.median())\n"
      ],
      "metadata": {
        "id": "9dAo_6bFqrlz"
      },
      "execution_count": 13,
      "outputs": []
    },
    {
      "cell_type": "code",
      "source": [
        "# Histogram \n",
        "\n",
        "plt.hist(data_check_distrib.reviews_per_month,  bins=50)\n",
        "plt.title(\"Distribution of reviews_per_month\")\n",
        "plt.xlim((min(data_check_distrib.reviews_per_month), max(data_check_distrib.reviews_per_month)))\n"
      ],
      "metadata": {
        "id": "N1Qlx2OPqvUY"
      },
      "execution_count": null,
      "outputs": []
    },
    {
      "cell_type": "code",
      "source": [
        "\n",
        "def impute_median(series):\n",
        "    return series.fillna(series.median())"
      ],
      "metadata": {
        "id": "I2dZLZjoq-bK"
      },
      "execution_count": 15,
      "outputs": []
    },
    {
      "cell_type": "code",
      "source": [
        "data.reviews_per_month=data[\"reviews_per_month\"].transform(impute_median)\n"
      ],
      "metadata": {
        "id": "SU7vOHF4rAmL"
      },
      "execution_count": 16,
      "outputs": []
    },
    {
      "cell_type": "code",
      "source": [
        "# Correlation Matrix Plot\n",
        "\n",
        "\n",
        "data['reviews_per_month'].fillna(value=0, inplace=True)\n",
        "\n",
        "f,ax=plt.subplots(figsize=(10,10))\n",
        "sns.heatmap(data.corr(),annot=True,linewidths=5,fmt='.1f',ax=ax, cmap='Reds')\n",
        "plt.show()\n"
      ],
      "metadata": {
        "id": "62ajmKRYrCrz"
      },
      "execution_count": null,
      "outputs": []
    },
    {
      "cell_type": "code",
      "source": [
        "# Histogram\n",
        "\n",
        "fig = plt.figure(figsize = (15,10))\n",
        "ax = fig.gca()\n",
        "data.hist(ax=ax)\n",
        "plt.show()\n"
      ],
      "metadata": {
        "id": "LftxTRC4rFBl"
      },
      "execution_count": null,
      "outputs": []
    },
    {
      "cell_type": "code",
      "source": [
        "# Pie Plot\n",
        "\n",
        "labels = data.neighbourhood_group.value_counts().index\n",
        "colors = ['lightblue','beige','lightgreen','orange','cyan']\n",
        "explode = [0,0,0,0,0]\n",
        "sizes = data.neighbourhood_group.value_counts().values\n",
        "\n",
        "plt.figure(0,figsize = (7,7))\n",
        "plt.pie(sizes, explode=[0.1,0.0,0.3,0.5,0.0], labels=labels, colors=colors, autopct='%1.1f%%',shadow=True)\n",
        "plt.title('Neighbourhood Group',color = 'black',fontsize = 15)\n",
        "plt.show()\n"
      ],
      "metadata": {
        "id": "0Rzr2JlHrMhi"
      },
      "execution_count": null,
      "outputs": []
    },
    {
      "cell_type": "code",
      "source": [
        "# Barplot neighbourhood_group-price\n",
        "result = data.groupby([\"neighbourhood_group\"])['price'].aggregate(np.median).reset_index().sort_values('price')\n",
        "sns.barplot(x='neighbourhood_group', y=\"price\", data=data,palette=colors, order=result['neighbourhood_group']) \n",
        "plt.xticks(rotation=45)\n",
        "plt.show()\n"
      ],
      "metadata": {
        "id": "CDQdArYyrSJ4"
      },
      "execution_count": null,
      "outputs": []
    },
    {
      "cell_type": "code",
      "source": [
        "# Boxplot neighbourhood_group-availability_365\n",
        "result = data.groupby([\"neighbourhood_group\"])['availability_365'].aggregate(np.median).reset_index().sort_values('availability_365')\n",
        "sns.boxplot(x='neighbourhood_group', y=\"availability_365\", data=data) \n",
        "plt.show()\n"
      ],
      "metadata": {
        "id": "_Q3-J3UjrSpq"
      },
      "execution_count": null,
      "outputs": []
    },
    {
      "cell_type": "code",
      "source": [
        "# Pie Plot Room-Type\n",
        "\n",
        "labels = data.room_type.value_counts().index\n",
        "colors = ['lightblue','pink','beige']\n",
        "explode = [0,0,0]\n",
        "sizes = data.room_type.value_counts().values\n",
        "\n",
        "\n",
        "plt.figure(0,figsize = (7,7))\n",
        "plt.pie(sizes, explode=[0,0.05,0.5], labels=labels, colors=colors, autopct='%1.1f%%', shadow=True)\n",
        "# plot.pie(explode=,autopct='%1.1f%%',ax=ax[0],)\n",
        "plt.title('Room-Type',color = 'Brown',fontsize = 15)\n",
        "plt.show()\n"
      ],
      "metadata": {
        "id": "NzFjCYDUrVaI"
      },
      "execution_count": null,
      "outputs": []
    },
    {
      "cell_type": "code",
      "source": [
        "# Bar Plot room_type-price\n",
        "result = data.groupby([\"room_type\"])['price'].aggregate(np.median).reset_index().sort_values('price')\n",
        "sns.barplot(x='room_type', y=\"price\", data=data, order=result['room_type']) \n",
        "plt.show()\n"
      ],
      "metadata": {
        "id": "hr0O5vcfrYGZ"
      },
      "execution_count": null,
      "outputs": []
    },
    {
      "cell_type": "code",
      "source": [
        "# Box Plot room_type-availability_365\n",
        "result = data.groupby([\"room_type\"])['availability_365'].aggregate(np.median).reset_index().sort_values('availability_365')\n",
        "sns.boxplot(x='room_type', y=\"availability_365\", data=data, order=result['room_type']) \n",
        "plt.show()\n"
      ],
      "metadata": {
        "id": "PkvZVBrLrate"
      },
      "execution_count": null,
      "outputs": []
    },
    {
      "cell_type": "code",
      "source": [
        "# Line Plot Availability vs Price \n",
        "sns.lineplot(x='availability_365',y='price',data=data)\n",
        "plt.show()\n"
      ],
      "metadata": {
        "id": "Pu3odWeLrcyT"
      },
      "execution_count": null,
      "outputs": []
    },
    {
      "cell_type": "code",
      "source": [
        "# Scatter Plot Neighbourhood Group\n",
        "\n",
        "plt.figure(figsize=(10,6))\n",
        "sns.scatterplot(data.longitude,data.latitude,hue=data.neighbourhood_group)\n",
        "plt.ioff()\n"
      ],
      "metadata": {
        "id": "cMKPoL9brfkQ"
      },
      "execution_count": null,
      "outputs": []
    },
    {
      "cell_type": "code",
      "source": [
        "# Scatter Plot\n",
        "\n",
        "plt.figure(figsize=(10,6))\n",
        "sns.scatterplot(data.longitude,data.latitude,hue=data.availability_365)\n",
        "plt.ioff()\n"
      ],
      "metadata": {
        "id": "RrLm8XXvsBt5"
      },
      "execution_count": null,
      "outputs": []
    }
  ]
}